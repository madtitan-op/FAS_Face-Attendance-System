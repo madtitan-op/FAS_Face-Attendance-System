{
 "cells": [
  {
   "cell_type": "code",
   "execution_count": 6,
   "id": "eeafad61-66cc-45b3-8bcc-d8f30b14f608",
   "metadata": {},
   "outputs": [],
   "source": [
    "import cv2\n",
    "import numpy as np\n",
    "import os\n",
    "\n",
    "# Initialize the LBPHFaceRecognizer\n",
    "face_recognizer = cv2.face.LBPHFaceRecognizer_create()\n",
    "\n",
    "# Load Haar Cascade classifier for face detection\n",
    "face_cascade = cv2.CascadeClassifier(cv2.data.haarcascades + 'haarcascade_frontalface_default.xml')\n",
    "\n",
    "def prepare_training_data(data_folder_path):\n",
    "    faces = []\n",
    "    labels = []\n",
    "    for label, person_name in enumerate(os.listdir(data_folder_path)):\n",
    "        person_folder_path = os.path.join(data_folder_path, person_name)\n",
    "        if not os.path.isdir(person_folder_path):\n",
    "            continue\n",
    "        for image_name in os.listdir(person_folder_path):\n",
    "            image_path = os.path.join(person_folder_path, image_name)\n",
    "            image = cv2.imread(image_path, cv2.IMREAD_GRAYSCALE)\n",
    "            faces_detected = face_cascade.detectMultiScale(image, scaleFactor=1.1, minNeighbors=5)\n",
    "            for (x, y, w, h) in faces_detected:\n",
    "                faces.append(image[y:y+h, x:x+w])\n",
    "                labels.append(label)\n",
    "    return faces, labels\n",
    "\n",
    "# Prepare the training data\n",
    "data_folder_path = \"image\"\n",
    "faces, labels = prepare_training_data(data_folder_path)\n",
    "\n",
    "# Train the recognizer\n",
    "face_recognizer.train(faces, np.array(labels))\n",
    "\n",
    "# Save the trained model to a file\n",
    "face_recognizer.save(\"face_recognizer_model.yml\")\n"
   ]
  },
  {
   "cell_type": "code",
   "execution_count": null,
   "id": "04ea42d7-b51e-4416-b6e1-f32adb2d5319",
   "metadata": {},
   "outputs": [],
   "source": []
  }
 ],
 "metadata": {
  "kernelspec": {
   "display_name": "Python 3 (ipykernel)",
   "language": "python",
   "name": "python3"
  },
  "language_info": {
   "codemirror_mode": {
    "name": "ipython",
    "version": 3
   },
   "file_extension": ".py",
   "mimetype": "text/x-python",
   "name": "python",
   "nbconvert_exporter": "python",
   "pygments_lexer": "ipython3",
   "version": "3.12.4"
  }
 },
 "nbformat": 4,
 "nbformat_minor": 5
}
