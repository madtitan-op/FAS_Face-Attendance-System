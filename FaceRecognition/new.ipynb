{
 "cells": [
  {
   "cell_type": "code",
   "execution_count": 1,
   "id": "be90c0e5-d136-4917-8b8f-ce71bc371016",
   "metadata": {},
   "outputs": [
    {
     "ename": "TypeError",
     "evalue": "'>' not supported between instances of 'tuple' and 'int'",
     "output_type": "error",
     "traceback": [
      "\u001b[1;31m---------------------------------------------------------------------------\u001b[0m",
      "\u001b[1;31mTypeError\u001b[0m                                 Traceback (most recent call last)",
      "Cell \u001b[1;32mIn[1], line 52\u001b[0m\n\u001b[0;32m     50\u001b[0m \u001b[38;5;66;03m#recognition part\u001b[39;00m\n\u001b[0;32m     51\u001b[0m conf\u001b[38;5;241m=\u001b[39m face_R\u001b[38;5;241m.\u001b[39mpredict(gray_image[y:y\u001b[38;5;241m+\u001b[39mh,x:x\u001b[38;5;241m+\u001b[39mh])\n\u001b[1;32m---> 52\u001b[0m \u001b[38;5;28;01mif\u001b[39;00m(\u001b[43mconf\u001b[49m\u001b[38;5;241;43m>\u001b[39;49m\u001b[38;5;241;43m50\u001b[39;49m):\n\u001b[0;32m     53\u001b[0m     cv2\u001b[38;5;241m.\u001b[39mputText(image,\u001b[38;5;124m\"\u001b[39m\u001b[38;5;124msuccessful\u001b[39m\u001b[38;5;124m\"\u001b[39m,(x\u001b[38;5;241m-\u001b[39m\u001b[38;5;241m50\u001b[39m,y\u001b[38;5;241m-\u001b[39m\u001b[38;5;241m50\u001b[39m),font,\u001b[38;5;241m1\u001b[39m,(\u001b[38;5;241m255\u001b[39m,\u001b[38;5;241m255\u001b[39m,\u001b[38;5;241m0\u001b[39m),\u001b[38;5;241m2\u001b[39m)\n\u001b[0;32m     55\u001b[0m \u001b[38;5;28;01melse\u001b[39;00m:\n",
      "\u001b[1;31mTypeError\u001b[0m: '>' not supported between instances of 'tuple' and 'int'"
     ]
    }
   ],
   "source": [
    "import cv2\n",
    "import numpy as np\n",
    "\n",
    "\n",
    "\n",
    "# Load Haar Cascade classifiers for face and eye detection\n",
    "face_R = cv2.face.LBPHFaceRecognizer_create()\n",
    "face_R.read(\"face_recognizer_model.yml\")\n",
    "face_D = cv2.CascadeClassifier(cv2.data.haarcascades + 'haarcascade_frontalface_default.xml')\n",
    "eye = cv2.CascadeClassifier(cv2.data.haarcascades + 'haarcascade_eye.xml')\n",
    "font = cv2.FONT_HERSHEY_SIMPLEX\n",
    "\n",
    "if face_D.empty() or eye.empty():\n",
    "    raise IOError(\"Error: Could not load one or more Haar Cascade classifiers.\")\n",
    "\n",
    "# Initialize video capture\n",
    "cam = cv2.VideoCapture(0)\n",
    "if not cam.isOpened():\n",
    "    print(\"Error: Could not open video capture.\")\n",
    "    exit()\n",
    "\n",
    "while True:\n",
    "    ret, image = cam.read()\n",
    "    if not ret:\n",
    "        print(\"Error: Failed to capture image.\")\n",
    "        break\n",
    "\n",
    "    if image is None or not isinstance(image, np.ndarray) or image.size == 0:\n",
    "        print(\"Error: Invalid frame.\")\n",
    "        break\n",
    "\n",
    "    # Convert to RGB for face_recognition\n",
    "    gray_image = cv2.cvtColor(image, cv2.COLOR_BGR2GRAY)\n",
    "\n",
    "    # Detect faces\n",
    "    faces = face_D.detectMultiScale(gray_image, scaleFactor=1.3, minNeighbors=5, minSize=(30, 30))\n",
    "    for (x, y, w, h) in faces:\n",
    "        # Draw rectangle around face\n",
    "        cv2.rectangle(image, (x, y), (x+w, y+h), (255, 0, 0), 2)\n",
    "        \n",
    "        # Extract face ROI\n",
    "        roi_gray = gray_image[y:y+h, x:x+w]\n",
    "        roi_color = image[y:y+h, x:x+w]\n",
    "\n",
    "        #eye detection\n",
    "        eyes = eye.detectMultiScale(roi_color)\n",
    "        for (ex,ey,ew,eh) in eyes:\n",
    "            cv2.rectangle(roi_color,(ex,ey),(ex+ew,ex+eh),(0,255,0),3)\n",
    "\n",
    "        #recognition part\n",
    "        conf= face_R.predict(gray_image[y:y+h,x:x+h])\n",
    "        if(conf>50):\n",
    "            cv2.putText(image,\"successful\",(x-50,y-50),font,1,(255,255,0),2)\n",
    "\n",
    "        else:\n",
    "            cv2.putText(image,\"Not successful\",(x-50,y-50),font,1,(255,255,0),2)\n",
    "\n",
    "        cv2.putText(image,str(conf),(x,y+h),font,1,(255,255,0),2)\n",
    "        \n",
    "    # Display the resulting frame\n",
    "    cv2.imshow('Face Detection', image)\n",
    "\n",
    "    # Exit on 'q' key\n",
    "    if cv2.waitKey(1) & 0xFF == ord('q'):\n",
    "        break\n",
    "\n",
    "# Release the capture and close windows\n",
    "cam.release()\n",
    "cv2.destroyAllWindows()\n"
   ]
  },
  {
   "cell_type": "code",
   "execution_count": null,
   "id": "3d4e6146-0327-45b3-9332-4e75119bd807",
   "metadata": {},
   "outputs": [],
   "source": []
  }
 ],
 "metadata": {
  "kernelspec": {
   "display_name": "Python 3 (ipykernel)",
   "language": "python",
   "name": "python3"
  },
  "language_info": {
   "codemirror_mode": {
    "name": "ipython",
    "version": 3
   },
   "file_extension": ".py",
   "mimetype": "text/x-python",
   "name": "python",
   "nbconvert_exporter": "python",
   "pygments_lexer": "ipython3",
   "version": "3.12.4"
  }
 },
 "nbformat": 4,
 "nbformat_minor": 5
}
